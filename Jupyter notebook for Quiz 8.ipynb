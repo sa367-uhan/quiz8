{
 "cells": [
  {
   "cell_type": "markdown",
   "metadata": {
    "hide_cell": true
   },
   "source": [
    "<span class='note'>*Make me look good.* Click on the cell below and press <kbd>Ctrl</kbd>-<kbd>Enter</kbd>.</span>"
   ]
  },
  {
   "cell_type": "code",
   "execution_count": null,
   "metadata": {
    "hide_cell": true
   },
   "outputs": [],
   "source": [
    "from IPython.core.display import HTML\n",
    "def css_styling():\n",
    "    styles = open('css/custom.css', 'r').read()\n",
    "    return HTML(styles)\n",
    "css_styling()"
   ]
  },
  {
   "cell_type": "markdown",
   "metadata": {
    "hide_cell": true
   },
   "source": [
    "<h5 class='prehead'>SA367 &middot; Mathematical Models for Decision Making &middot; Spring 2018 &middot; Uhan</h5>\n",
    "\n",
    "<h1 class='lesson_title'>Quiz 8 &mdash; 24 April 2017</h1>"
   ]
  },
  {
   "cell_type": "markdown",
   "metadata": {
    "hide_cell": true
   },
   "source": [
    "## Instructions"
   ]
  },
  {
   "cell_type": "markdown",
   "metadata": {
    "hide_cell": true
   },
   "source": [
    "This quiz is due **at the end of class on Thursday 26 April**.\n",
    "\n",
    "Type your answers to all of the problems **directly in this Jupyter notebook**, and submit this notebook (just the `ipynb` file) using the [SA367 submission form](https://script.google.com/a/usna.edu/macros/s/AKfycbztmCZWUZwdekL5yk-VJvfrpJrC_cOgP9onlTFp7bJSJDQgkh98/exec).\n",
    "\n",
    "**You may work with other midshipmen, but each midshipman must submit his or her own quiz.** You may use any of your own course materials (e.g., notes, homework) as well as any materials linked from the course website."
   ]
  },
  {
   "cell_type": "markdown",
   "metadata": {},
   "source": [
    "## Problem 1"
   ]
  },
  {
   "cell_type": "markdown",
   "metadata": {},
   "source": [
    "Place your code in the cell below."
   ]
  },
  {
   "cell_type": "code",
   "execution_count": null,
   "metadata": {},
   "outputs": [],
   "source": [
    "# Setup code\n",
    "from stochasticdp import StochasticDP\n",
    "\n",
    "# Total number of possessions\n",
    "# Drive Averages: 2 * (#Dr) / (G * (# of teams))\n",
    "T = 23\n",
    "\n",
    "# 1-pt. conversion success probabilities\n",
    "# Kicking and Punting: XP%\n",
    "pA = 0.936\n",
    "pB = 0.936\n",
    "\n",
    "# 2-pt. conversion success probabilities\n",
    "# Scoring Offense: 2PM / 2PA\n",
    "qA = 0.486\n",
    "qB = 0.486\n",
    "\n",
    "# 1-pt. vs 2-pt attempts\n",
    "# 1-pt.: Scoring Offense: XPA / (XPA + 2PA)\n",
    "b1 = 0.919\n",
    "b2 = 1 - b1\n",
    "\n",
    "# Possession outcome probabilities - Team A\n",
    "# TD: (Scoring Offense: ATD) / (Drive Averages: #Dr)\n",
    "# FG: (Scoring Offense: FGM) / (Drive Averages: #Dr)\n",
    "tA = 0.223\n",
    "gA = 0.145\n",
    "zA = 1 - tA - gA\n",
    "\n",
    "# Possession outcome probabilities - Team B\n",
    "tB = 0.223\n",
    "gB = 0.145\n",
    "zB = 1 - tB - gB\n",
    "\n",
    "# Probability that Team A wins in OT\n",
    "r = 0.5\n",
    "\n",
    "# Number of stages\n",
    "number_of_stages = T + 1\n",
    "\n",
    "# Maximum lead for Team A\n",
    "max_d = 20\n",
    "\n",
    "# List of states\n",
    "states = []\n",
    "for n in ['A', 'B']:\n",
    "    for k in [0, 3, 6]:\n",
    "        for d in range(-max_d, max_d + 1):\n",
    "            states.append((n, k, d))\n",
    "            \n",
    "# List of decisions\n",
    "decisions = [1, 2, 'none']\n",
    "\n",
    "# Initialize stochastic dynamic program - we want to maximize, so minimize = False\n",
    "dp = StochasticDP(number_of_stages, states, decisions, minimize=False)\n",
    "\n",
    "# Transition probabilities from (A, 0, d) up to stage T - 2\n",
    "for t in range(T - 1):\n",
    "    for d in range(-20, 21):\n",
    "        dp.add_transition(t, ('A', 0, d), 'none', ('B', 6, max(d - 6, -20)), tB, 0)\n",
    "        dp.add_transition(t, ('A', 0, d), 'none', ('B', 3, max(d - 3, -20)), gB, 0)\n",
    "        dp.add_transition(t, ('A', 0, d), 'none', ('B', 0, d), zB, 0)\n",
    "        \n",
    "# Transition probabilities from (A, 3, d) up to stage T - 2\n",
    "for t in range(T - 1):\n",
    "    for d in range(-20, 21):\n",
    "        dp.add_transition(t, ('A', 3, d), 'none', ('B', 6, max(d - 6, -20)), tB, 0)\n",
    "        dp.add_transition(t, ('A', 3, d), 'none', ('B', 3, max(d - 3, -20)), gB, 0)\n",
    "        dp.add_transition(t, ('A', 3, d), 'none', ('B', 0, d), zB, 0)  \n",
    "\n",
    "# Transition probabilities from (A, 6, d) up to stage T - 2\n",
    "# Decision: 1-point conversion\n",
    "for t in range(T - 1):\n",
    "    for d in range(-20, 21):\n",
    "\n",
    "        if d - 5 <= -20:\n",
    "            dp.add_transition(t, ('A', 6, d), 1, ('B', 6, -20), (1 - pA) * tB + pA * tB, 0)\n",
    "        else:\n",
    "            dp.add_transition(t, ('A', 6, d), 1, ('B', 6, max(d - 6, -20)), (1 - pA) * tB, 0)\n",
    "            dp.add_transition(t, ('A', 6, d), 1, ('B', 6, max(d - 5, -20)), pA * tB, 0)\n",
    "        \n",
    "        if d - 2 <= -20:\n",
    "            dp.add_transition(t, ('A', 6, d), 1, ('B', 3, -20), (1 - pA) * gB + pA * gB, 0)\n",
    "        else:\n",
    "            dp.add_transition(t, ('A', 6, d), 1, ('B', 3, max(d - 3, -20)), (1 - pA) * gB, 0)\n",
    "            dp.add_transition(t, ('A', 6, d), 1, ('B', 3, max(d - 2, -20)), pA * gB, 0)\n",
    "        \n",
    "        if d >= 20:\n",
    "            dp.add_transition(t, ('A', 6, d), 1, ('B', 0, 20), (1 - pA) * zB + pA * zB, 0)\n",
    "        else:\n",
    "            dp.add_transition(t, ('A', 6, d), 1, ('B', 0, min(d, 20)), (1 - pA) * zB, 0)\n",
    "            dp.add_transition(t, ('A', 6, d), 1, ('B', 0, min(d + 1, 20)), pA * zB, 0)\n",
    "            \n",
    "# Transition probabilities from (A, 6, d) up to stage T - 2\n",
    "# Decision: 2-point conversion\n",
    "for t in range(T - 1):\n",
    "    for d in range(-20, 21):\n",
    "\n",
    "        if d - 4 <= -20:\n",
    "            dp.add_transition(t, ('A', 6, d), 2, ('B', 6, -20), (1 - qA) * tB + qA * tB, 0)\n",
    "        else:\n",
    "            dp.add_transition(t, ('A', 6, d), 2, ('B', 6, max(d - 6, -20)), (1 - qA) * tB, 0)\n",
    "            dp.add_transition(t, ('A', 6, d), 2, ('B', 6, max(d - 4, -20)), qA * tB, 0)\n",
    "        \n",
    "        if d - 1 <= -20:\n",
    "            dp.add_transition(t, ('A', 6, d), 2, ('B', 3, -20), (1 - qA) * gB + qA * gB, 0)\n",
    "        else:\n",
    "            dp.add_transition(t, ('A', 6, d), 2, ('B', 3, max(d - 3, -20)), (1 - qA) * gB, 0)\n",
    "            dp.add_transition(t, ('A', 6, d), 2, ('B', 3, max(d - 1, -20)), qA * gB, 0)\n",
    "            \n",
    "        if d >= 20:\n",
    "            dp.add_transition(t, ('A', 6, d), 2, ('B', 0, 20),  (1 - qA) * zB + qA * zB, 0)\n",
    "        else:\n",
    "            dp.add_transition(t, ('A', 6, d), 2, ('B', 0, min(d, 20)), (1 - qA) * zB, 0)\n",
    "            dp.add_transition(t, ('A', 6, d), 2, ('B', 0, min(d + 2, 20)), qA * zB, 0)\n",
    "\n",
    "# Transition probabilities from (B, 0, d) up to stage T - 2\n",
    "for t in range(T - 1):\n",
    "    for d in range(-20, 21):\n",
    "        dp.add_transition(t, ('B', 0, d), 'none', ('A', 6, min(d + 6, 20)), tA, 0)\n",
    "        dp.add_transition(t, ('B', 0, d), 'none', ('A', 3, min(d + 3, 20)), gA, 0)\n",
    "        dp.add_transition(t, ('B', 0, d), 'none', ('A', 0, d), zA, 0)\n",
    "        \n",
    "# Transition probabilities from (B, 3, d) up to stage T - 2\n",
    "for t in range(T - 1):\n",
    "    for d in range(-20, 21):\n",
    "        dp.add_transition(t, ('B', 3, d), 'none', ('A', 6, min(d + 6, 20)), tA, 0)\n",
    "        dp.add_transition(t, ('B', 3, d), 'none', ('A', 3, min(d + 3, 20)), gA, 0)\n",
    "        dp.add_transition(t, ('B', 3, d), 'none', ('A', 0, d), zA, 0)        \n",
    "\n",
    "# Transition probabilities from (B, 6, d) up to stage T - 2\n",
    "for t in range(T - 1):\n",
    "    for d in range(-20, 21):\n",
    "        if d + 4 >= 20:\n",
    "            dp.add_transition(t, ('B', 6, d), 'none', ('A', 6, 20), (1 - b1*pB - b2*qB) * tA + b1*pB*tA + b2*qB*tA, 0)\n",
    "        elif d + 5 >= 20:\n",
    "            dp.add_transition(t, ('B', 6, d), 'none', ('A', 6, 20), (1 - b1*pB - b2*qB) * tA + b1*pB*tA, 0)    \n",
    "            dp.add_transition(t, ('B', 6, d), 'none', ('A', 6, min(d + 4, 20)), b2*qB*tA, 0)\n",
    "        else:\n",
    "            dp.add_transition(t, ('B', 6, d), 'none', ('A', 6, min(d + 6, 20)), (1 - b1*pB - b2*qB) * tA, 0)\n",
    "            dp.add_transition(t, ('B', 6, d), 'none', ('A', 6, min(d + 5, 20)), b1*pB*tA, 0)\n",
    "            dp.add_transition(t, ('B', 6, d), 'none', ('A', 6, min(d + 4, 20)), b2*qB*tA, 0)\n",
    "\n",
    "        if d + 1 >= 20:\n",
    "            dp.add_transition(t, ('B', 6, d), 'none', ('A', 3, 20), (1 - b1*pB - b2*qB) * gA + b1*pB*gA + b2*qB*gA, 0)\n",
    "        elif d + 2 >= 20:\n",
    "            dp.add_transition(t, ('B', 6, d), 'none', ('A', 3, 20), (1 - b1*pB - b2*qB) * gA + b1*pB*gA, 0)    \n",
    "            dp.add_transition(t, ('B', 6, d), 'none', ('A', 3, min(d + 1, 20)), b2*qB*gA, 0)\n",
    "        else:\n",
    "            dp.add_transition(t, ('B', 6, d), 'none', ('A', 3, min(d + 3, 20)), (1 - b1*pB - b2*qB) * gA, 0)\n",
    "            dp.add_transition(t, ('B', 6, d), 'none', ('A', 3, min(d + 2, 20)), b1*pB*gA, 0)\n",
    "            dp.add_transition(t, ('B', 6, d), 'none', ('A', 3, min(d + 1, 20)), b2*qB*gA, 0)\n",
    "            \n",
    "        if d <= -20:\n",
    "            dp.add_transition(t, ('B', 6, d), 'none', ('A', 0, -20), (1 - b1*pB - b2*qB) * zA + b1*pB*zA + b2*qB*zA, 0)\n",
    "        elif d - 1 <= -20:\n",
    "            dp.add_transition(t, ('B', 6, d), 'none', ('A', 0, d), (1 - b1*pB - b2*qB) * zA, 0)\n",
    "            dp.add_transition(t, ('B', 6, d), 'none', ('A', 0, -20), b1*pB*zA + b2*qB*zA, 0)    \n",
    "        else:\n",
    "            dp.add_transition(t, ('B', 6, d), 'none', ('A', 0, d), (1 - b1*pB - b2*qB) * zA, 0)\n",
    "            dp.add_transition(t, ('B', 6, d), 'none', ('A', 0, max(d - 1, -20)), b1*pB*zA, 0)\n",
    "            dp.add_transition(t, ('B', 6, d), 'none', ('A', 0, max(d - 2, - 20)), b2*qB*zA, 0)\n",
    "        \n",
    "# Transition probabilities from (A, 0, d) in stage T - 1\n",
    "for d in range(-20, 21):\n",
    "    dp.add_transition(T - 1, ('A', 0, d), 'none', ('A', 0, d), 1, 0)\n",
    "    \n",
    "# Transition probabilities from (A, 3, d) in stage T - 1\n",
    "for d in range(-20, 21):\n",
    "    dp.add_transition(T - 1, ('A', 3, d), 'none', ('A', 3, d), 1, 0)\n",
    "    \n",
    "# Transition probabilities from (A, 6, d) in stage T - 1\n",
    "for d in range(-20, 21):\n",
    "    # 1-point conversion\n",
    "    if d >= 20:\n",
    "        dp.add_transition(T - 1, ('A', 6, d), 1, ('A', 6, 20), (1 - pA) + pA, 0)\n",
    "    else:\n",
    "        dp.add_transition(T - 1, ('A', 6, d), 1, ('A', 6, d), 1 - pA, 0)\n",
    "        dp.add_transition(T - 1, ('A', 6, d), 1, ('A', 6, min(d + 1, 20)), pA, 0)\n",
    "\n",
    "    # 2-point conversion\n",
    "    if d >= 20:\n",
    "        dp.add_transition(T - 1, ('A', 6, d), 2, ('A', 6, 20), (1 - qA) + qA, 0)\n",
    "    else:\n",
    "        dp.add_transition(T - 1, ('A', 6, d), 2, ('A', 6, d), 1 - qA, 0)\n",
    "        dp.add_transition(T - 1, ('A', 6, d), 2, ('A', 6, min(d + 2, 20)), qA, 0)\n",
    "\n",
    "# Transition probabilities from (B, 0, d) in stage T - 1\n",
    "for d in range(-20, 21):\n",
    "    dp.add_transition(T - 1, ('B', 0, d), 'none', ('B', 0, d), 1, 0)\n",
    "    \n",
    "# Transition probabilities from (B, 3, d) in stage T - 1\n",
    "for d in range(-20, 21):\n",
    "    dp.add_transition(T - 1, ('B', 3, d), 'none', ('B', 3, d), 1, 0)\n",
    "    \n",
    "# Transition probabilities from (B, 6, d) in stage T - 1\n",
    "for d in range(-20, 21):\n",
    "    if d <= -20:\n",
    "        dp.add_transition(T - 1, ('B', 6, d), 'none', ('B', 6, -20), 1, 0)\n",
    "    elif d <= -19:\n",
    "        dp.add_transition(T - 1, ('B', 6, d), 'none', ('B', 6, -20), b1*pB + b2*qB, 0)\n",
    "        dp.add_transition(T - 1, ('B', 6, d), 'none', ('B', 6, d), 1 - b1*pB - b2*qB, 0)\n",
    "    else:        \n",
    "        dp.add_transition(T - 1, ('B', 6, d), 'none', ('B', 6, max(d - 2, -20)), b2*qB, 0)\n",
    "        dp.add_transition(T - 1, ('B', 6, d), 'none', ('B', 6, max(d - 1, -20)), b1*pB, 0)\n",
    "        dp.add_transition(T - 1, ('B', 6, d), 'none', ('B', 6, d), 1 - b1*pB - b2*qB, 0)\n",
    "\n",
    "# Boundary conditions\n",
    "for n in ['A', 'B']:\n",
    "    for k in [0, 3, 6]:\n",
    "        for d in range(-20, 21):\n",
    "            if d > 0:\n",
    "                dp.add_boundary(state=(n, k, d), value=1)\n",
    "            elif d == 0:\n",
    "                dp.add_boundary(state=(n, k, d), value=r)\n",
    "            else:\n",
    "                dp.add_boundary(state=(n, k, d), value=0)\n",
    "                \n",
    "# Solve the stochastic dynamic program\n",
    "value, policy = dp.solve()"
   ]
  },
  {
   "cell_type": "markdown",
   "metadata": {},
   "source": [
    "## Problem 2"
   ]
  },
  {
   "cell_type": "markdown",
   "metadata": {},
   "source": [
    "Place your code in the cell below."
   ]
  },
  {
   "cell_type": "code",
   "execution_count": null,
   "metadata": {},
   "outputs": [],
   "source": [
    "value[0, ('A', 3, 3)]"
   ]
  },
  {
   "cell_type": "markdown",
   "metadata": {},
   "source": [
    "## Problem 3"
   ]
  },
  {
   "cell_type": "markdown",
   "metadata": {},
   "source": [
    "Place any code that helps you answer the problem in the cell below."
   ]
  },
  {
   "cell_type": "code",
   "execution_count": null,
   "metadata": {
    "scrolled": false
   },
   "outputs": [],
   "source": [
    "d = -4\n",
    "for t in range(number_of_stages - 1):\n",
    "    print(\"Points ahead: {1}   Possession: {0}    Go for: {2}   Pr(win): {3}\"\n",
    "          .format(t, d, policy[t, ('A', 6, d)], value[t, ('A', 6, d)]))"
   ]
  },
  {
   "cell_type": "markdown",
   "metadata": {},
   "source": [
    "<!-- _Write your response here. Double-click to edit._ -->\n",
    "\n",
    "At the beginning of the game, Team A in this situation should go for 2. Towards to the end of the game, starting at possession 8, Team A should go for 1 in this situation.\n",
    "\n",
    "On the other hand, assuming 2 average NFL teams in the 2014 season, Team A should always go for 1. \n",
    "\n",
    "The differences between the optimal strategies in 2014 and 2016 make sense in light of the rule change on 1-point conversions in 2015. In 2014, a successful 1-point conversion was nearly guaranteed. On the other hand, in 2016, a 1-point conversion had a lower success rate due to the rule change, making going for 2 in 2016 a more palatable option earlier in the game."
   ]
  },
  {
   "cell_type": "markdown",
   "metadata": {},
   "source": [
    "## Problem 4"
   ]
  },
  {
   "cell_type": "markdown",
   "metadata": {},
   "source": [
    "<!-- _Write your response here. Double-click to edit._ -->\n",
    "\n",
    "There are several aspects of a real-world football game that could be added to our formulation. Two examples:\n",
    "\n",
    "- __Actual time remaining in game.__ Including the actual time remaining would allow our model to consider having more or less time in the final few possessions, which could affect the points-after-touchdown decision. In general, it would also allow for a more realistic representation of the length of a football game.\n",
    "\n",
    "- __Modeling Team B's points-after-touchdown decision.__ Instead of assuming that Team B goes for 1 some fraction of the time ($b_1$), and goes for 2 the rest of the time ($b_2 = 1 - b_1$), we could explicitly model Team B's points-after-touchdown decision, assuming that Team B acts optimally in order to _minimize_ the probability of Team A winning. This would require a different type of value-to-recursion than the one we discussed in class, one that alternates between maximizing (on Team A's possessions) and minimizing (on Team B's possessions)."
   ]
  },
  {
   "cell_type": "markdown",
   "metadata": {
    "hide_cell": true
   },
   "source": [
    "## When you're finished"
   ]
  },
  {
   "cell_type": "markdown",
   "metadata": {
    "hide_cell": true
   },
   "source": [
    "* Select **Cell &#8594; Run All**  to run all the cells from top to bottom. Make sure your notebook runs as you expect before submitting it."
   ]
  }
 ],
 "metadata": {
  "kernelspec": {
   "display_name": "Python 3",
   "language": "python",
   "name": "python3"
  },
  "language_info": {
   "codemirror_mode": {
    "name": "ipython",
    "version": 3
   },
   "file_extension": ".py",
   "mimetype": "text/x-python",
   "name": "python",
   "nbconvert_exporter": "python",
   "pygments_lexer": "ipython3",
   "version": "3.6.4"
  },
  "latex_metadata": {
   "lesson": "5",
   "lessontitle": "Quiz 7 -- 28 February 2017",
   "shortlessontitle": "Quiz 7 -- 28 February 2017"
  }
 },
 "nbformat": 4,
 "nbformat_minor": 1
}
