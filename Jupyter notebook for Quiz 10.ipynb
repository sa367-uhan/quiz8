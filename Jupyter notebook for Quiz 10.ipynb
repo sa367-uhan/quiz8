{
 "cells": [
  {
   "cell_type": "markdown",
   "metadata": {
    "hide_cell": true
   },
   "source": [
    "<span class='note'>*Make me look good.* Click on the cell below and press <kbd>Ctrl</kbd>-<kbd>Enter</kbd>.</span>"
   ]
  },
  {
   "cell_type": "code",
   "execution_count": null,
   "metadata": {
    "collapsed": false,
    "hide_cell": true
   },
   "outputs": [],
   "source": [
    "from IPython.core.display import HTML\n",
    "def css_styling():\n",
    "    styles = open('css/custom.css', 'r').read()\n",
    "    return HTML(styles)\n",
    "css_styling()"
   ]
  },
  {
   "cell_type": "markdown",
   "metadata": {
    "hide_cell": true
   },
   "source": [
    "<h5 class='prehead'>SA367 &middot; Mathematical Models for Decision Making &middot; Spring 2017 &middot; Uhan</h5>\n",
    "\n",
    "<h1 class='lesson_title'>Quiz 10 &mdash; 18 April 2017</h1>"
   ]
  },
  {
   "cell_type": "markdown",
   "metadata": {
    "hide_cell": true
   },
   "source": [
    "## Instructions"
   ]
  },
  {
   "cell_type": "markdown",
   "metadata": {
    "hide_cell": true
   },
   "source": [
    "This quiz is due **at the beginning of class on Tuesday 25 April**.\n",
    "\n",
    "Type your answers to all of the problems **directly in this Jupyter notebook**, and submit this notebook (just the `ipynb` file) using the [SA367 submission form](https://script.google.com/a/macros/usna.edu/s/AKfycbyieji_Lk5-LCNNq1GKJyY9jC71-XoBZ_RHjCSrjqBKsSEhRZ0c/exec).\n",
    "\n",
    "**You may work with other midshipmen, but each midshipman must submit his or her own quiz.** You may use any of your own course materials (e.g., notes, homework) as well as any materials linked from the course website."
   ]
  },
  {
   "cell_type": "markdown",
   "metadata": {},
   "source": [
    "## Your name"
   ]
  },
  {
   "cell_type": "markdown",
   "metadata": {},
   "source": [
    "_Write your name here, please! Double-click to edit._"
   ]
  },
  {
   "cell_type": "markdown",
   "metadata": {},
   "source": [
    "## Who did you work with?"
   ]
  },
  {
   "cell_type": "markdown",
   "metadata": {},
   "source": [
    "_Write the name of your collaborators here. Double-click to edit._"
   ]
  },
  {
   "cell_type": "markdown",
   "metadata": {},
   "source": [
    "## Problem 1"
   ]
  },
  {
   "cell_type": "markdown",
   "metadata": {},
   "source": [
    "Place your code in the cell below."
   ]
  },
  {
   "cell_type": "code",
   "execution_count": null,
   "metadata": {
    "collapsed": false
   },
   "outputs": [],
   "source": [
    "# Setup code\n",
    "from stochasticdp import StochasticDP\n",
    "\n",
    "# Total number of possessions\n",
    "# Drive Averages: 2 * (#Dr) / (G * (# of teams))\n",
    "T = 23\n",
    "\n",
    "# 1-pt. conversion success probabilities\n",
    "# Kicking and Punting: XP%\n",
    "pA = 0.936\n",
    "pB = 0.936\n",
    "\n",
    "# 2-pt. conversion success probabilities\n",
    "# Scoring Offense: 2PM / 2PA\n",
    "qA = 0.486\n",
    "qB = 0.486\n",
    "\n",
    "# 1-pt. vs 2-pt attempts\n",
    "# 1-pt.: Scoring Offense: XPA / (XPA + 2PA)\n",
    "b1 = 0.919\n",
    "b2 = 1 - b1\n",
    "\n",
    "# Possession outcome probabilities - Team A\n",
    "# TD: (Scoring Offense: ATD) / (Drive Averages: #Dr)\n",
    "# FG: (Scoring Offense: FGM) / (Drive Averages: #Dr)\n",
    "tA = 0.218\n",
    "gA = 0.145\n",
    "zA = 1 - tA - gA\n",
    "\n",
    "# Possession outcome probabilities - Team B\n",
    "tB = 0.218\n",
    "gB = 0.145\n",
    "zB = 1 - tB - gB\n",
    "\n",
    "# Probability that Team A wins in OT\n",
    "r = 0.5\n",
    "\n",
    "# Number of stages\n",
    "number_of_stages = T + 1\n",
    "\n",
    "# Maximum lead for Team A\n",
    "max_d = 20\n",
    "\n",
    "# List of states\n",
    "states = []\n",
    "for n in ['A', 'B']:\n",
    "    for k in [0, 3, 6]:\n",
    "        for d in range(-max_d, max_d + 1):\n",
    "            states.append((n, k, d))\n",
    "            \n",
    "# List of decisions\n",
    "decisions = [1, 2, 'none']\n",
    "\n",
    "# Initialize stochastic dynamic program - we want to maximize, so minimize = False\n",
    "dp = StochasticDP(number_of_stages, states, decisions, minimize=False)\n",
    "\n",
    "# Transition probabilities from (A, 6, d) up to stage T - 2\n",
    "for t in range(T - 1):\n",
    "    for d in range(-max_d, max_d + 1):\n",
    "        # 1-point conversion\n",
    "        dp.transition[('B', 6, max(d - 6, -max_d)), ('A', 6, d), t, 1] += (1 - pA) * tB\n",
    "        dp.transition[('B', 6, max(d - 5, -max_d)), ('A', 6, d), t, 1] += pA * tB\n",
    "        dp.transition[('B', 3, max(d - 3, -max_d)), ('A', 6, d), t, 1] += (1 - pA) * gB\n",
    "        dp.transition[('B', 3, max(d - 2, -max_d)), ('A', 6, d), t, 1] += pA * gB\n",
    "        dp.transition[('B', 0, d),                  ('A', 6, d), t, 1] += (1 - pA) * zB\n",
    "        dp.transition[('B', 0, min(d + 1, max_d)),  ('A', 6, d), t, 1] += pA * zB\n",
    "        \n",
    "        # 2-point conversion\n",
    "        dp.transition[('B', 6, max(d - 6, -max_d)), ('A', 6, d), t, 2] += (1 - qA) * tB\n",
    "        dp.transition[('B', 6, max(d - 4, -max_d)), ('A', 6, d), t, 2] += qA * tB\n",
    "        dp.transition[('B', 3, max(d - 3, -max_d)), ('A', 6, d), t, 2] += (1 - qA) * gB\n",
    "        dp.transition[('B', 3, max(d - 1, -max_d)), ('A', 6, d), t, 2] += qA * gB\n",
    "        dp.transition[('B', 0, d),                  ('A', 6, d), t, 2] += (1 - qA) * zB\n",
    "        dp.transition[('B', 0, min(d + 2, max_d)),  ('A', 6, d), t, 2] += qA * zB\n",
    "        \n",
    "# Transition probabilities from (A, 3, d) up to stage T - 2\n",
    "for t in range(T - 1):\n",
    "    for d in range(-max_d, max_d + 1):\n",
    "        dp.transition[('B', 6, max(d - 6, -max_d)), ('A', 3, d), t, 'none'] += tB\n",
    "        dp.transition[('B', 3, max(d - 3, -max_d)), ('A', 3, d), t, 'none'] += gB\n",
    "        dp.transition[('B', 0, d),                  ('A', 3, d), t, 'none'] += zB\n",
    "        \n",
    "# Transition probabilities from (A, 0, d) up to stage T - 2\n",
    "for t in range(T - 1):\n",
    "    for d in range(-max_d, max_d + 1):\n",
    "        dp.transition[('B', 6, max(d - 6, -max_d)), ('A', 0, d), t, 'none'] += tB\n",
    "        dp.transition[('B', 3, max(d - 3, -max_d)), ('A', 0, d), t, 'none'] += gB\n",
    "        dp.transition[('B', 0, d),                  ('A', 0, d), t, 'none'] += zB\n",
    "\n",
    "# Transition probabilities from (B, 6, d) up to stage T - 2\n",
    "for t in range(T - 1):\n",
    "    for d in range(-max_d, max_d + 1):\n",
    "        dp.transition[('A', 6, min(d + 6, max_d)), ('B', 6, d), t, 'none'] += (1 - b1*pB - b2*qB) * tA\n",
    "        dp.transition[('A', 3, min(d + 3, max_d)), ('B', 6, d), t, 'none'] += (1 - b1*pB - b2*qB) * gA\n",
    "        dp.transition[('A', 0, d),                 ('B', 6, d), t, 'none'] += (1 - b1*pB - b2*qB) * zA\n",
    "        \n",
    "        dp.transition[('A', 6, min(d + 5, max_d)),  ('B', 6, d), t, 'none'] += b1 * pB * tA\n",
    "        dp.transition[('A', 3, min(d + 2, max_d)),  ('B', 6, d), t, 'none'] += b1 * pB * gA\n",
    "        dp.transition[('A', 0, max(d - 1, -max_d)), ('B', 6, d), t, 'none'] += b1 * pB * zA\n",
    "        \n",
    "        dp.transition[('A', 6, min(d + 4, max_d)),  ('B', 6, d), t, 'none'] += b2 * qB * tA\n",
    "        dp.transition[('A', 3, min(d + 1, max_d)),  ('B', 6, d), t, 'none'] += b2 * qB * gA\n",
    "        dp.transition[('A', 0, max(d - 2, -max_d)), ('B', 6, d), t, 'none'] += b2 * qB * zA\n",
    "\n",
    "# Transition probabilities from (B, 3, d) up to stage T - 2\n",
    "for t in range(T - 1):\n",
    "    for d in range(-max_d, max_d + 1):\n",
    "        dp.transition[('A', 6, min(d + 6, max_d)), ('B', 3, d), t, 'none'] += tA\n",
    "        dp.transition[('A', 3, min(d + 3, max_d)), ('B', 3, d), t, 'none'] += gA\n",
    "        dp.transition[('A', 0, d),                 ('B', 3, d), t, 'none'] += zA\n",
    "\n",
    "# Transition probabilities from (B, 0, d) up to stage T - 2\n",
    "for t in range(T - 1):\n",
    "    for d in range(-max_d, max_d + 1):\n",
    "        dp.transition[('A', 6, min(d + 6, max_d)), ('B', 0, d), t, 'none'] += tA\n",
    "        dp.transition[('A', 3, min(d + 3, max_d)), ('B', 0, d), t, 'none'] += gA\n",
    "        dp.transition[('A', 0, d),                 ('B', 0, d), t, 'none'] += zA\n",
    "\n",
    "# Transition probabilities from (A, 6, d) in stage T - 1\n",
    "for d in range(-max_d, max_d + 1):\n",
    "    # 1-point conversion\n",
    "    dp.transition[('A', 6, min(d + 1, max_d)),  ('A', 6, d), T - 1, 1] += pA\n",
    "    dp.transition[('A', 6, d),                  ('A', 6, d), T - 1, 1] += 1 - pA\n",
    "\n",
    "    # 2-point conversion\n",
    "    dp.transition[('B', 0, min(d + 2, max_d)),  ('A', 6, d), T - 1, 2] += qA\n",
    "    dp.transition[('B', 0, d),                  ('A', 6, d), T - 1, 2] += (1 - qA)\n",
    "\n",
    "# Transition probabilities from (A, 3, d) in stage T - 1\n",
    "for d in range(-max_d, max_d + 1):\n",
    "    dp.transition[('A', 3, d), ('A', 3, d), T - 1, 'none'] += 1\n",
    "\n",
    "# Transition probabilities from (A, 0, d) in stage T - 1\n",
    "for d in range(-max_d, max_d + 1):\n",
    "    dp.transition[('A', 0, d), ('A', 0, d), T - 1, 'none'] += 1\n",
    "\n",
    "# Transition probabilities from (B, 6, d) in stage T - 1\n",
    "for d in range(-max_d, max_d + 1):\n",
    "    dp.transition[('B', 6, max(d - 2, -max_d)),  ('B', 6, d), T - 1, 'none'] += qB * b2\n",
    "    dp.transition[('B', 6, max(d - 1, -max_d)),  ('B', 6, d), T - 1, 'none'] += pB * b1\n",
    "    dp.transition[('B', 6, d),                  ('B', 6, d), T - 1, 'none'] += 1 - pB * b1 - qB * b2\n",
    "\n",
    "# Transition probabilities from (B, 3, d) in stage T - 1\n",
    "for d in range(-max_d, max_d + 1):\n",
    "    dp.transition[('B', 3, d), ('B', 3, d), T - 1, 'none'] += 1\n",
    "\n",
    "# Transition probabilities from (B, 0, d) in stage T - 1\n",
    "for d in range(-max_d, max_d + 1):\n",
    "    dp.transition[('B', 0, d), ('B', 0, d), T - 1, 'none'] += 1\n",
    "    \n",
    "# Boundary conditions\n",
    "for n in ['A', 'B']:\n",
    "    for k in [0, 3, 6]:\n",
    "        for d in range(-max_d, max_d + 1):\n",
    "            if d > 0:\n",
    "                dp.boundary[n, k, d] = 1\n",
    "            elif d == 0:\n",
    "                dp.boundary[n, k, d] = r\n",
    "            else:\n",
    "                dp.boundary[n, k, d] = 0\n",
    "\n",
    "# Solve the stochastic dynamic program\n",
    "value, policy = dp.solve()"
   ]
  },
  {
   "cell_type": "markdown",
   "metadata": {},
   "source": [
    "## Problem 2"
   ]
  },
  {
   "cell_type": "markdown",
   "metadata": {},
   "source": [
    "Place your code in the cell below."
   ]
  },
  {
   "cell_type": "code",
   "execution_count": null,
   "metadata": {
    "collapsed": false
   },
   "outputs": [],
   "source": [
    "value[0, ('A', 3, 3)]"
   ]
  },
  {
   "cell_type": "markdown",
   "metadata": {},
   "source": [
    "## Problem 3"
   ]
  },
  {
   "cell_type": "markdown",
   "metadata": {},
   "source": [
    "Place any code that helps you answer the problem in the cell below."
   ]
  },
  {
   "cell_type": "code",
   "execution_count": null,
   "metadata": {
    "collapsed": false,
    "scrolled": false
   },
   "outputs": [],
   "source": [
    "d = -4\n",
    "for t in range(number_of_stages - 1):\n",
    "    print(\"Points ahead: {1}   Possession: {0}    Go for: {2}   Pr(win): {3}\".format(t, d, policy[t, ('A', 6, d)], value[t, ('A', 6, d)]))"
   ]
  },
  {
   "cell_type": "markdown",
   "metadata": {},
   "source": [
    "_Write your response here. Double-click to edit._"
   ]
  },
  {
   "cell_type": "markdown",
   "metadata": {},
   "source": [
    "## Problem 4"
   ]
  },
  {
   "cell_type": "markdown",
   "metadata": {},
   "source": [
    "_Write your response here. Double-click to edit._"
   ]
  },
  {
   "cell_type": "markdown",
   "metadata": {
    "hide_cell": true
   },
   "source": [
    "## When you're finished"
   ]
  },
  {
   "cell_type": "markdown",
   "metadata": {
    "hide_cell": true
   },
   "source": [
    "* Select **Cell &#8594; Run All**  to run all the cells from top to bottom. Make sure your notebook runs as you expect before submitting it."
   ]
  }
 ],
 "metadata": {
  "kernelspec": {
   "display_name": "Python 3",
   "language": "python",
   "name": "python3"
  },
  "language_info": {
   "codemirror_mode": {
    "name": "ipython",
    "version": 3
   },
   "file_extension": ".py",
   "mimetype": "text/x-python",
   "name": "python",
   "nbconvert_exporter": "python",
   "pygments_lexer": "ipython3",
   "version": "3.5.2"
  },
  "latex_metadata": {
   "lesson": "5",
   "lessontitle": "Quiz 7 -- 28 February 2017",
   "shortlessontitle": "Quiz 7 -- 28 February 2017"
  }
 },
 "nbformat": 4,
 "nbformat_minor": 1
}
